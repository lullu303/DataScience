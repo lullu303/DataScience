{
 "cells": [
  {
   "cell_type": "code",
   "execution_count": 8,
   "id": "8fc5b573",
   "metadata": {},
   "outputs": [
    {
     "data": {
      "text/html": [
       "<div>\n",
       "<style scoped>\n",
       "    .dataframe tbody tr th:only-of-type {\n",
       "        vertical-align: middle;\n",
       "    }\n",
       "\n",
       "    .dataframe tbody tr th {\n",
       "        vertical-align: top;\n",
       "    }\n",
       "\n",
       "    .dataframe thead th {\n",
       "        text-align: right;\n",
       "    }\n",
       "</style>\n",
       "<table border=\"1\" class=\"dataframe\">\n",
       "  <thead>\n",
       "    <tr style=\"text-align: right;\">\n",
       "      <th></th>\n",
       "      <th>국적</th>\n",
       "      <th>관광</th>\n",
       "      <th>상용</th>\n",
       "      <th>공용</th>\n",
       "      <th>유학/연수</th>\n",
       "      <th>기타</th>\n",
       "      <th>계</th>\n",
       "    </tr>\n",
       "  </thead>\n",
       "  <tbody>\n",
       "    <tr>\n",
       "      <th>0</th>\n",
       "      <td>아시아주</td>\n",
       "      <td>765082</td>\n",
       "      <td>10837</td>\n",
       "      <td>1423</td>\n",
       "      <td>14087</td>\n",
       "      <td>125521</td>\n",
       "      <td>916950</td>\n",
       "    </tr>\n",
       "    <tr>\n",
       "      <th>1</th>\n",
       "      <td>일본</td>\n",
       "      <td>198805</td>\n",
       "      <td>2233</td>\n",
       "      <td>127</td>\n",
       "      <td>785</td>\n",
       "      <td>4576</td>\n",
       "      <td>206526</td>\n",
       "    </tr>\n",
       "    <tr>\n",
       "      <th>2</th>\n",
       "      <td>대만</td>\n",
       "      <td>86393</td>\n",
       "      <td>74</td>\n",
       "      <td>22</td>\n",
       "      <td>180</td>\n",
       "      <td>1285</td>\n",
       "      <td>87954</td>\n",
       "    </tr>\n",
       "    <tr>\n",
       "      <th>3</th>\n",
       "      <td>홍콩</td>\n",
       "      <td>34653</td>\n",
       "      <td>59</td>\n",
       "      <td>2</td>\n",
       "      <td>90</td>\n",
       "      <td>1092</td>\n",
       "      <td>35896</td>\n",
       "    </tr>\n",
       "    <tr>\n",
       "      <th>4</th>\n",
       "      <td>마카오</td>\n",
       "      <td>2506</td>\n",
       "      <td>2</td>\n",
       "      <td>0</td>\n",
       "      <td>17</td>\n",
       "      <td>45</td>\n",
       "      <td>2570</td>\n",
       "    </tr>\n",
       "  </tbody>\n",
       "</table>\n",
       "</div>"
      ],
      "text/plain": [
       "     국적      관광     상용    공용  유학/연수      기타       계\n",
       "0  아시아주  765082  10837  1423  14087  125521  916950\n",
       "1    일본  198805   2233   127    785    4576  206526\n",
       "2    대만   86393     74    22    180    1285   87954\n",
       "3    홍콩   34653     59     2     90    1092   35896\n",
       "4   마카오    2506      2     0     17      45    2570"
      ]
     },
     "execution_count": 8,
     "metadata": {},
     "output_type": "execute_result"
    }
   ],
   "source": [
    "import pandas as pd \n",
    "kto_201901 = pd.read_excel('./files/kto_201901.xlsx', \n",
    "header=1, # 첫줄생략\n",
    "usecols='A:G',\n",
    "skipfooter=4)\n",
    "kto_201901.head()\n"
   ]
  },
  {
   "cell_type": "code",
   "execution_count": null,
   "id": "dd1c7bf2",
   "metadata": {},
   "outputs": [],
   "source": []
  }
 ],
 "metadata": {
  "kernelspec": {
   "display_name": "Python 3 (ipykernel)",
   "language": "python",
   "name": "python3"
  },
  "language_info": {
   "codemirror_mode": {
    "name": "ipython",
    "version": 3
   },
   "file_extension": ".py",
   "mimetype": "text/x-python",
   "name": "python",
   "nbconvert_exporter": "python",
   "pygments_lexer": "ipython3",
   "version": "3.9.13"
  }
 },
 "nbformat": 4,
 "nbformat_minor": 5
}
