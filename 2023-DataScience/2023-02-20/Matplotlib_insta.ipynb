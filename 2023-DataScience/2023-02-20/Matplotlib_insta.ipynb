{
 "cells": [
  {
   "cell_type": "code",
   "execution_count": 18,
   "id": "183a830f",
   "metadata": {},
   "outputs": [],
   "source": [
    "def insta_searching(word):\n",
    "    url = \"https://www.instagram.com/explore/tags/\" + word\n",
    "    return url"
   ]
  },
  {
   "cell_type": "code",
   "execution_count": 62,
   "id": "1ed8384f",
   "metadata": {},
   "outputs": [
    {
     "name": "stderr",
     "output_type": "stream",
     "text": [
      "C:\\Users\\lullu\\AppData\\Local\\Temp\\ipykernel_50988\\1044585301.py:2: DeprecationWarning: executable_path has been deprecated, please pass in a Service object\n",
      "  driver = webdriver.Chrome('D:\\play_with_data\\chromedriver.exe')\n"
     ]
    }
   ],
   "source": [
    "from selenium import webdriver\n",
    "driver = webdriver.Chrome('D:\\play_with_data\\chromedriver.exe')\n",
    "word = \"경주맛집\"\n",
    "url = insta_searching(word) \n",
    "driver.get(url)"
   ]
  },
  {
   "cell_type": "code",
   "execution_count": 63,
   "id": "76a99f5e",
   "metadata": {},
   "outputs": [],
   "source": [
    "import time\n",
    "from selenium.webdriver.common.by import By"
   ]
  },
  {
   "cell_type": "code",
   "execution_count": 112,
   "id": "e2dfe472",
   "metadata": {},
   "outputs": [],
   "source": [
    "word = \"제주맛집\"\n",
    "url = insta_searching(word) \n",
    "driver.get(url)"
   ]
  },
  {
   "cell_type": "code",
   "execution_count": 66,
   "id": "6ba5bb86",
   "metadata": {},
   "outputs": [],
   "source": [
    "# 첫 번째 게시글 찾아 클릭하여 열어보기\n",
    "# selenium만 쓰는 경우, 띄워놓고 그 안에서 서칭\n",
    "\n",
    "def select_first(driver):\n",
    "    first = driver.find_element(By.CLASS_NAME ,'_aagu')\n",
    "    first.click()\n",
    "    time.sleep(3) #3초간 대기 처리\n",
    "    \n",
    "select_first(driver)"
   ]
  },
  {
   "cell_type": "code",
   "execution_count": 94,
   "id": "35493593",
   "metadata": {},
   "outputs": [
    {
     "data": {
      "text/plain": [
       "['(광고)❤현지인 맛집 으로 유명한 닭갈비 집❤ \"운수대통\"2TV 생생정보에 소개된  현지인 맛집 으로 유명한 곳🥴👍20년 한자리에서 고집 스럽게 맛을 지켜온 닭갈비 장인🙀경주 여행중 꼭 한번쯤 먹어봐야할 찐 맛집!!🤩💖💖🧭운수대통주소 : 경주시 원효로104-15영업시간 : 22:00~23:00예약전화 : 054-741-4356#경주맛집#경주맛집추천#경주황리단길맛집#경주핫플#경주카페#황리단길카페#경주여행코스#경주월드맛집#보문단지맛집#경주핫플레이스#황리단길핫플#황리단길가볼만한곳',\n",
       " '2023-02-20',\n",
       " 0,\n",
       " '',\n",
       " ['#경주맛집',\n",
       "  '#경주맛집추천',\n",
       "  '#경주황리단길맛집',\n",
       "  '#경주핫플',\n",
       "  '#경주카페',\n",
       "  '#황리단길카페',\n",
       "  '#경주여행코스',\n",
       "  '#경주월드맛집',\n",
       "  '#보문단지맛집',\n",
       "  '#경주핫플레이스',\n",
       "  '#황리단길핫플',\n",
       "  '#황리단길가볼만한곳']]"
      ]
     },
     "execution_count": 94,
     "metadata": {},
     "output_type": "execute_result"
    }
   ],
   "source": [
    "import re\n",
    "from bs4 import BeautifulSoup #beautifulsoup를 사용\n",
    "def get_content(driver) :\n",
    "    html = driver.page_source\n",
    "    soup = BeautifulSoup(html, 'lxml')\n",
    "    try:\n",
    "        content = soup.select('div._a9zs > h1')[0].text\n",
    "    except:\n",
    "        content = ' '\n",
    "    tags = re.findall(r'#[^\\s#,\\\\]+', content) # #[^\\s#,\\\\] => 정규식\n",
    "    date = soup.select('time._aaqe')[0]['datetime'][:10] # 슬라이싱해서 10개\n",
    "# 좋아요 수 가져오기\n",
    "    try:\n",
    "        like = soup.select('div._aacl._aaco._aacw._aacx._aada._aade > span')[0].text[4:-1]\n",
    "    except:\n",
    "        like = 0\n",
    "        \n",
    "# 위치정보 가져오기\n",
    "    try: \n",
    "\n",
    "        place = soup.select('div.__aaqm')[0].text\n",
    "    except:\n",
    "        place = ''\n",
    "        \n",
    "# 수집한 정보 저장하기\n",
    "    data = [content, date, like, place, tags]\n",
    "    return data\n",
    "\n",
    "get_content(driver)\n"
   ]
  },
  {
   "cell_type": "code",
   "execution_count": 101,
   "id": "9bf1fa3f",
   "metadata": {},
   "outputs": [],
   "source": [
    "def move_next(driver):\n",
    "    right = driver.find_element(By.CLASS_NAME,'_aaqg')\n",
    "\n",
    "    right.click()\n",
    "    time.sleep(3)\n",
    "    \n",
    "move_next(driver)\n"
   ]
  },
  {
   "cell_type": "code",
   "execution_count": 113,
   "id": "433fd9bb",
   "metadata": {},
   "outputs": [
    {
     "name": "stdout",
     "output_type": "stream",
     "text": [
      "[['(광고)지만 진심으로 추천해주고 싶은숙성흑돼지 전문 \"흑돈가\"안먹어본 사람은 있어도한번만 먹어본 사람은 없을 정도로도민분들의 사랑을 오랫동안 받아온제주도지사인증 제주흑돼지 1호점!대한민국을 대표하는 170개 맛집 선정!화려한 경력의 리얼!!참숯 숙성 흑돼지 맛집~숯향기가 깊게베여 육즙이 풍부하고감칠맛도 두배!추자도에서 공급받은 멜젓만 사용!퀄리티부터 차원이 다른 흑돼지전문점🧭흑돈가 제주본점주소 : 제주 제주시 한라대학로 11전화 : 064-747-0088영업시간 : 매일 11:20 ~ 23:00#제주맛집#제주도맛집#제주공항근처흑돼지#제주흑돼지#제주흑돼지맛집#제주도흑돼지#제주도흑돼지맛집#제주시흑돼지맛집#이호테우해변맛집#키세스존#드림타워맛집#노형동맛집#연동맛집', '2023-02-20', 0, '', ['#제주맛집', '#제주도맛집', '#제주공항근처흑돼지', '#제주흑돼지', '#제주흑돼지맛집', '#제주도흑돼지', '#제주도흑돼지맛집', '#제주시흑돼지맛집', '#이호테우해변맛집', '#키세스존', '#드림타워맛집', '#노형동맛집', '#연동맛집']], ['푸른제주바다와 마주보며 즐기는 특별한 수제버거! 100% 프리미엄 씨푸드원료 그.대.로.패티를 만드는 버거에 진심인 제주수제버거맛집 버거요그어디에서도 맛볼수없는 탱글야들쪽득 환상식감의 🍔관자스테이크버거대게살이 살아있는 고소한 🍔대게버거은은한 훈제향의 프레쉬한 🍔홀랜다이즈연어버거아름다운 제주바다뷰와 함께 인생버거를 만나보세요! @burgeryo_jeju 한림읍 귀덕11길 4310:00~20:00(라스트오더19:00)T. 064-796-0220 주차가능, 애견동반가능#제주맛집', '2023-02-20', 0, '', ['#제주맛집']]]\n"
     ]
    }
   ],
   "source": [
    "select_first(driver)\n",
    "# 여러 게시물 수집하기\n",
    "results = []\n",
    "target = 50 # 크롤링할 게시글 수\n",
    "for i in range(target):\n",
    "    try:\n",
    "        data = get_content(driver) # 게시글 정보 가져오기\n",
    "        results.append(data)\n",
    "        move_next(driver)\n",
    "    except:\n",
    "        time.sleep(2) # 게시글 수집에 오류 발생시(네트워크 문제 등의 이유로) 2초 대기 후, 다음 게시글로 넘어가도록\n",
    "        move_next(driver) \n",
    "        \n",
    "print(results[:2])\n"
   ]
  },
  {
   "cell_type": "code",
   "execution_count": 109,
   "id": "fcd88720",
   "metadata": {},
   "outputs": [],
   "source": [
    "import pandas as pd"
   ]
  },
  {
   "cell_type": "code",
   "execution_count": 114,
   "id": "0dd30517",
   "metadata": {},
   "outputs": [],
   "source": [
    "# 수집데이터 저장\n",
    "results_df = pd.DataFrame(results)\n",
    "results_df.columns = ['content','data','like','place','tags']\n",
    "results_df.to_excel('../files/crawling_jejuMatJip.xlsx', index = False)"
   ]
  },
  {
   "cell_type": "code",
   "execution_count": 116,
   "id": "ed18e3f7",
   "metadata": {},
   "outputs": [
    {
     "name": "stderr",
     "output_type": "stream",
     "text": [
      "C:\\Users\\lullu\\AppData\\Local\\Temp\\ipykernel_50988\\4012267037.py:9: FutureWarning: The frame.append method is deprecated and will be removed from pandas in a future version. Use pandas.concat instead.\n",
      "  matzip_insta_df = matzip_insta_df.append(temp)\n",
      "C:\\Users\\lullu\\AppData\\Local\\Temp\\ipykernel_50988\\4012267037.py:9: FutureWarning: The frame.append method is deprecated and will be removed from pandas in a future version. Use pandas.concat instead.\n",
      "  matzip_insta_df = matzip_insta_df.append(temp)\n"
     ]
    }
   ],
   "source": [
    "# 여러 키워드로 검색한 결과를 저장하여 통합저장 \n",
    "matzip_insta_df = pd.DataFrame( [ ] )\n",
    "\n",
    "folder = '../files/'\n",
    "f_list = ['crawling_jejuMatJip.xlsx','crawling_kyungjuMatJip.xlsx']\n",
    "for fname in f_list:\n",
    "    fpath = folder + fname\n",
    "    temp = pd.read_excel(fpath)\n",
    "    matzip_insta_df = matzip_insta_df.append(temp)\n",
    "    \n",
    "matzip_insta_df.columns =['content','data','like','place','tags']\n"
   ]
  },
  {
   "cell_type": "code",
   "execution_count": 117,
   "id": "8afd97ae",
   "metadata": {},
   "outputs": [],
   "source": [
    "# content 열의 데이터에 들어있는 게시글의 본문 내용이 동일하면 중복으로 판단하고 제거\n",
    "# inplace=True 옵션을 사용해 원본 데이터 변경. 꼭 필요한 옵션.(기본값은 False)\n",
    "matzip_insta_df.drop_duplicates(subset = [ \"content\"] , inplace = True)\n",
    "matzip_insta_df.to_excel('../files/crawling_raw.xlsx', index = False)\n"
   ]
  },
  {
   "cell_type": "code",
   "execution_count": null,
   "id": "c2541bd8",
   "metadata": {},
   "outputs": [],
   "source": []
  }
 ],
 "metadata": {
  "kernelspec": {
   "display_name": "Python 3 (ipykernel)",
   "language": "python",
   "name": "python3"
  },
  "language_info": {
   "codemirror_mode": {
    "name": "ipython",
    "version": 3
   },
   "file_extension": ".py",
   "mimetype": "text/x-python",
   "name": "python",
   "nbconvert_exporter": "python",
   "pygments_lexer": "ipython3",
   "version": "3.9.13"
  }
 },
 "nbformat": 4,
 "nbformat_minor": 5
}
