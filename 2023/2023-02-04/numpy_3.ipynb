{
 "cells": [
  {
   "cell_type": "code",
   "execution_count": 1,
   "id": "5c5ad724",
   "metadata": {},
   "outputs": [],
   "source": [
    "import numpy as np"
   ]
  },
  {
   "cell_type": "code",
   "execution_count": 2,
   "id": "c2aabe1e",
   "metadata": {},
   "outputs": [
    {
     "data": {
      "text/plain": [
       "0.9419502335190039"
      ]
     },
     "execution_count": 2,
     "metadata": {},
     "output_type": "execute_result"
    }
   ],
   "source": [
    "np.random.rand()"
   ]
  },
  {
   "cell_type": "code",
   "execution_count": 3,
   "id": "fd045ce3",
   "metadata": {},
   "outputs": [
    {
     "data": {
      "text/plain": [
       "array([[0.39823919, 0.15800967, 0.113248  ],\n",
       "       [0.40657335, 0.73159353, 0.02888129]])"
      ]
     },
     "execution_count": 3,
     "metadata": {},
     "output_type": "execute_result"
    }
   ],
   "source": [
    "np.random.rand(2,3)"
   ]
  },
  {
   "cell_type": "code",
   "execution_count": 4,
   "id": "c0943576",
   "metadata": {},
   "outputs": [
    {
     "data": {
      "text/plain": [
       "array([[[0.08677075, 0.57790875],\n",
       "        [0.68067808, 0.34660641],\n",
       "        [0.93073196, 0.04386036]],\n",
       "\n",
       "       [[0.90511341, 0.08011441],\n",
       "        [0.95826508, 0.1908488 ],\n",
       "        [0.27334433, 0.2609294 ]]])"
      ]
     },
     "execution_count": 4,
     "metadata": {},
     "output_type": "execute_result"
    }
   ],
   "source": [
    "np.random.rand(2,3,2)"
   ]
  },
  {
   "cell_type": "code",
   "execution_count": 5,
   "id": "02723c4f",
   "metadata": {},
   "outputs": [
    {
     "data": {
      "text/plain": [
       "16"
      ]
     },
     "execution_count": 5,
     "metadata": {},
     "output_type": "execute_result"
    }
   ],
   "source": [
    "np.random.randint(1,20)"
   ]
  },
  {
   "cell_type": "code",
   "execution_count": 7,
   "id": "8b15c420",
   "metadata": {},
   "outputs": [
    {
     "data": {
      "text/plain": [
       "array([[6, 5, 6],\n",
       "       [8, 5, 8],\n",
       "       [7, 2, 9]])"
      ]
     },
     "execution_count": 7,
     "metadata": {},
     "output_type": "execute_result"
    }
   ],
   "source": [
    "np.random.randint(10, size=(3,3))"
   ]
  },
  {
   "cell_type": "code",
   "execution_count": 10,
   "id": "de1d7df2",
   "metadata": {},
   "outputs": [],
   "source": [
    "num_arr1 = np.array([10,20,30])\n",
    "num_arr2 = np.array([1,2,3])"
   ]
  },
  {
   "cell_type": "code",
   "execution_count": 11,
   "id": "cb2e08b8",
   "metadata": {},
   "outputs": [
    {
     "data": {
      "text/plain": [
       "array([11, 22, 33])"
      ]
     },
     "execution_count": 11,
     "metadata": {},
     "output_type": "execute_result"
    }
   ],
   "source": [
    "num_arr1 + num_arr2"
   ]
  },
  {
   "cell_type": "code",
   "execution_count": 12,
   "id": "5ca2211a",
   "metadata": {},
   "outputs": [
    {
     "data": {
      "text/plain": [
       "array([ 9, 18, 27])"
      ]
     },
     "execution_count": 12,
     "metadata": {},
     "output_type": "execute_result"
    }
   ],
   "source": [
    "num_arr1 - num_arr2"
   ]
  },
  {
   "cell_type": "code",
   "execution_count": 13,
   "id": "cd3c0944",
   "metadata": {},
   "outputs": [
    {
     "data": {
      "text/plain": [
       "array([20, 40, 60])"
      ]
     },
     "execution_count": 13,
     "metadata": {},
     "output_type": "execute_result"
    }
   ],
   "source": [
    "num_arr1 * 2"
   ]
  },
  {
   "cell_type": "code",
   "execution_count": 18,
   "id": "c4172628",
   "metadata": {},
   "outputs": [
    {
     "data": {
      "text/plain": [
       "array([1, 2, 3, 4, 5])"
      ]
     },
     "execution_count": 18,
     "metadata": {},
     "output_type": "execute_result"
    }
   ],
   "source": [
    "num_arr = np.arange(1,6)\n",
    "num_arr"
   ]
  },
  {
   "cell_type": "code",
   "execution_count": 22,
   "id": "74df8465",
   "metadata": {},
   "outputs": [
    {
     "data": {
      "text/plain": [
       "[15, 3.0]"
      ]
     },
     "execution_count": 22,
     "metadata": {},
     "output_type": "execute_result"
    }
   ],
   "source": [
    "[num_arr.sum(), num_arr.mean()]"
   ]
  },
  {
   "cell_type": "code",
   "execution_count": 25,
   "id": "df43b54d",
   "metadata": {},
   "outputs": [
    {
     "data": {
      "text/plain": [
       "[array([10, 30, 60], dtype=int32), array([  10,  200, 6000], dtype=int32)]"
      ]
     },
     "execution_count": 25,
     "metadata": {},
     "output_type": "execute_result"
    }
   ],
   "source": [
    "[num_arr1.cumsum(), num_arr1.cumprod()]"
   ]
  },
  {
   "cell_type": "code",
   "execution_count": 24,
   "id": "176f2840",
   "metadata": {},
   "outputs": [
    {
     "data": {
      "text/plain": [
       "array([10, 30, 60], dtype=int32)"
      ]
     },
     "execution_count": 24,
     "metadata": {},
     "output_type": "execute_result"
    }
   ],
   "source": [
    "num_arr1.cumsum()"
   ]
  },
  {
   "cell_type": "code",
   "execution_count": 26,
   "id": "277750ba",
   "metadata": {},
   "outputs": [],
   "source": [
    "m1 = np.array([0,1,2,3]).reshape(2,2)\n",
    "m2 = np.array([3,2,1,0]).reshape(2,2)"
   ]
  },
  {
   "cell_type": "code",
   "execution_count": 27,
   "id": "7847f856",
   "metadata": {},
   "outputs": [
    {
     "data": {
      "text/plain": [
       "array([[1, 0],\n",
       "       [9, 4]])"
      ]
     },
     "execution_count": 27,
     "metadata": {},
     "output_type": "execute_result"
    }
   ],
   "source": [
    "m1.dot(m2)"
   ]
  },
  {
   "cell_type": "code",
   "execution_count": null,
   "id": "da670058",
   "metadata": {},
   "outputs": [],
   "source": []
  }
 ],
 "metadata": {
  "kernelspec": {
   "display_name": "Python 3 (ipykernel)",
   "language": "python",
   "name": "python3"
  },
  "language_info": {
   "codemirror_mode": {
    "name": "ipython",
    "version": 3
   },
   "file_extension": ".py",
   "mimetype": "text/x-python",
   "name": "python",
   "nbconvert_exporter": "python",
   "pygments_lexer": "ipython3",
   "version": "3.9.13"
  }
 },
 "nbformat": 4,
 "nbformat_minor": 5
}
