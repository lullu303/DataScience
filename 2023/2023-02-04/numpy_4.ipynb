{
 "cells": [
  {
   "cell_type": "code",
   "execution_count": 1,
   "id": "9b29eab8",
   "metadata": {},
   "outputs": [],
   "source": [
    "import numpy as np"
   ]
  },
  {
   "cell_type": "code",
   "execution_count": 2,
   "id": "6e91b2c0",
   "metadata": {},
   "outputs": [
    {
     "data": {
      "text/plain": [
       "0.9419502335190039"
      ]
     },
     "execution_count": 2,
     "metadata": {},
     "output_type": "execute_result"
    }
   ],
   "source": [
    "np.random.rand() #배열 and 연산"
   ]
  },
  {
   "cell_type": "code",
   "execution_count": 3,
   "id": "ec057bc4",
   "metadata": {},
   "outputs": [
    {
     "data": {
      "text/plain": [
       "array([[0.39823919, 0.15800967, 0.113248  ],\n",
       "       [0.40657335, 0.73159353, 0.02888129]])"
      ]
     },
     "execution_count": 3,
     "metadata": {},
     "output_type": "execute_result"
    }
   ],
   "source": [
    "np.random.rand(2,3)"
   ]
  },
  {
   "cell_type": "code",
   "execution_count": 4,
   "id": "76254b84",
   "metadata": {},
   "outputs": [
    {
     "data": {
      "text/plain": [
       "array([[[0.08677075, 0.57790875],\n",
       "        [0.68067808, 0.34660641],\n",
       "        [0.93073196, 0.04386036]],\n",
       "\n",
       "       [[0.90511341, 0.08011441],\n",
       "        [0.95826508, 0.1908488 ],\n",
       "        [0.27334433, 0.2609294 ]]])"
      ]
     },
     "execution_count": 4,
     "metadata": {},
     "output_type": "execute_result"
    }
   ],
   "source": [
    "np.random.rand(2,3,2)"
   ]
  },
  {
   "cell_type": "code",
   "execution_count": 5,
   "id": "f5083751",
   "metadata": {},
   "outputs": [
    {
     "data": {
      "text/plain": [
       "16"
      ]
     },
     "execution_count": 5,
     "metadata": {},
     "output_type": "execute_result"
    }
   ],
   "source": [
    "np.random.randint(1,20)"
   ]
  },
  {
   "cell_type": "code",
   "execution_count": 7,
   "id": "b4275e2b",
   "metadata": {},
   "outputs": [
    {
     "data": {
      "text/plain": [
       "array([[6, 5, 6],\n",
       "       [8, 5, 8],\n",
       "       [7, 2, 9]])"
      ]
     },
     "execution_count": 7,
     "metadata": {},
     "output_type": "execute_result"
    }
   ],
   "source": [
    "np.random.randint(10, size=(3,3))"
   ]
  },
  {
   "cell_type": "code",
   "execution_count": 10,
   "id": "6a5ecd1b",
   "metadata": {},
   "outputs": [],
   "source": [
    "num_arr1 = np.array([10,20,30])\n",
    "num_arr2 = np.array([1,2,3])"
   ]
  },
  {
   "cell_type": "code",
   "execution_count": 11,
   "id": "a42bd4fd",
   "metadata": {},
   "outputs": [
    {
     "data": {
      "text/plain": [
       "array([11, 22, 33])"
      ]
     },
     "execution_count": 11,
     "metadata": {},
     "output_type": "execute_result"
    }
   ],
   "source": [
    "num_arr1 + num_arr2"
   ]
  },
  {
   "cell_type": "code",
   "execution_count": 12,
   "id": "7dfbd95e",
   "metadata": {},
   "outputs": [
    {
     "data": {
      "text/plain": [
       "array([ 9, 18, 27])"
      ]
     },
     "execution_count": 12,
     "metadata": {},
     "output_type": "execute_result"
    }
   ],
   "source": [
    "num_arr1 - num_arr2"
   ]
  },
  {
   "cell_type": "code",
   "execution_count": 13,
   "id": "62bb0e31",
   "metadata": {},
   "outputs": [
    {
     "data": {
      "text/plain": [
       "array([20, 40, 60])"
      ]
     },
     "execution_count": 13,
     "metadata": {},
     "output_type": "execute_result"
    }
   ],
   "source": [
    "num_arr1 * 2"
   ]
  },
  {
   "cell_type": "code",
   "execution_count": 18,
   "id": "00b61d8d",
   "metadata": {},
   "outputs": [
    {
     "data": {
      "text/plain": [
       "array([1, 2, 3, 4, 5])"
      ]
     },
     "execution_count": 18,
     "metadata": {},
     "output_type": "execute_result"
    }
   ],
   "source": [
    "num_arr = np.arange(1,6)\n",
    "num_arr"
   ]
  },
  {
   "cell_type": "code",
   "execution_count": 22,
   "id": "e47f8601",
   "metadata": {},
   "outputs": [
    {
     "data": {
      "text/plain": [
       "[15, 3.0]"
      ]
     },
     "execution_count": 22,
     "metadata": {},
     "output_type": "execute_result"
    }
   ],
   "source": [
    "[num_arr.sum(), num_arr.mean()]"
   ]
  },
  {
   "cell_type": "code",
   "execution_count": 25,
   "id": "b269b046",
   "metadata": {},
   "outputs": [
    {
     "data": {
      "text/plain": [
       "[array([10, 30, 60], dtype=int32), array([  10,  200, 6000], dtype=int32)]"
      ]
     },
     "execution_count": 25,
     "metadata": {},
     "output_type": "execute_result"
    }
   ],
   "source": [
    "[num_arr1.cumsum(), num_arr1.cumprod()]"
   ]
  },
  {
   "cell_type": "code",
   "execution_count": 24,
   "id": "afc4027c",
   "metadata": {},
   "outputs": [
    {
     "data": {
      "text/plain": [
       "array([10, 30, 60], dtype=int32)"
      ]
     },
     "execution_count": 24,
     "metadata": {},
     "output_type": "execute_result"
    }
   ],
   "source": [
    "num_arr1.cumsum()"
   ]
  }
 ],
 "metadata": {
  "kernelspec": {
   "display_name": "Python 3 (ipykernel)",
   "language": "python",
   "name": "python3"
  },
  "language_info": {
   "codemirror_mode": {
    "name": "ipython",
    "version": 3
   },
   "file_extension": ".py",
   "mimetype": "text/x-python",
   "name": "python",
   "nbconvert_exporter": "python",
   "pygments_lexer": "ipython3",
   "version": "3.9.13"
  }
 },
 "nbformat": 4,
 "nbformat_minor": 5
}
