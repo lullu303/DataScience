{
 "cells": [
  {
   "cell_type": "code",
   "execution_count": 11,
   "id": "97c40f12",
   "metadata": {},
   "outputs": [],
   "source": [
    "import numpy as np #배열의 인덱싱과 슬라이싱"
   ]
  },
  {
   "cell_type": "code",
   "execution_count": 13,
   "id": "3558dcfb",
   "metadata": {},
   "outputs": [],
   "source": [
    "arr_m = np.arange(10, 100, 10).reshape(3,3)"
   ]
  },
  {
   "cell_type": "code",
   "execution_count": 14,
   "id": "4e7a6605",
   "metadata": {},
   "outputs": [
    {
     "data": {
      "text/plain": [
       "array([[10, 20, 30],\n",
       "       [40, 50, 60],\n",
       "       [70, 80, 90]])"
      ]
     },
     "execution_count": 14,
     "metadata": {},
     "output_type": "execute_result"
    }
   ],
   "source": [
    "arr_m"
   ]
  },
  {
   "cell_type": "code",
   "execution_count": 16,
   "id": "06053274",
   "metadata": {},
   "outputs": [
    {
     "data": {
      "text/plain": [
       "array([[10, 20, 30],\n",
       "       [40, 50, 60],\n",
       "       [70, 80, 95]])"
      ]
     },
     "execution_count": 16,
     "metadata": {},
     "output_type": "execute_result"
    }
   ],
   "source": [
    "# 선택 후 값 변경\n",
    "arr_m[0,2]\n",
    "arr_m[2,2]=95\n",
    "arr_m"
   ]
  },
  {
   "cell_type": "code",
   "execution_count": 17,
   "id": "57f3eff3",
   "metadata": {},
   "outputs": [
    {
     "data": {
      "text/plain": [
       "array([[10, 20, 30],\n",
       "       [47, 57, 67],\n",
       "       [70, 80, 95]])"
      ]
     },
     "execution_count": 17,
     "metadata": {},
     "output_type": "execute_result"
    }
   ],
   "source": [
    "# 행전체 지정하여 행 전체 변경\n",
    "arr_m[1]\n",
    "arr_m[1] = np.array([45,55,65])\n",
    "arr_m\n",
    "arr_m[1] = [47,57,67]\n",
    "arr_m"
   ]
  },
  {
   "cell_type": "code",
   "execution_count": 18,
   "id": "c99913e0",
   "metadata": {},
   "outputs": [
    {
     "data": {
      "text/plain": [
       "array([10, 80])"
      ]
     },
     "execution_count": 18,
     "metadata": {},
     "output_type": "execute_result"
    }
   ],
   "source": [
    "# 행과 열의 위치를 지정해 여러 원소 가져옴\n",
    "arr_m[[0,2], [0,1]]"
   ]
  },
  {
   "cell_type": "code",
   "execution_count": null,
   "id": "1644ebe3",
   "metadata": {},
   "outputs": [],
   "source": []
  }
 ],
 "metadata": {
  "kernelspec": {
   "display_name": "Python 3 (ipykernel)",
   "language": "python",
   "name": "python3"
  },
  "language_info": {
   "codemirror_mode": {
    "name": "ipython",
    "version": 3
   },
   "file_extension": ".py",
   "mimetype": "text/x-python",
   "name": "python",
   "nbconvert_exporter": "python",
   "pygments_lexer": "ipython3",
   "version": "3.9.13"
  }
 },
 "nbformat": 4,
 "nbformat_minor": 5
}
