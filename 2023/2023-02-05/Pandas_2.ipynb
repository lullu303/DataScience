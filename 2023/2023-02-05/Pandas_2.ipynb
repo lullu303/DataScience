{
 "cells": [
  {
   "cell_type": "code",
   "execution_count": 1,
   "id": "11d2d010",
   "metadata": {},
   "outputs": [],
   "source": [
    "import urllib.request\n",
    "import re"
   ]
  },
  {
   "cell_type": "code",
   "execution_count": 2,
   "id": "f823f1e1",
   "metadata": {},
   "outputs": [],
   "source": [
    "url = \"https://finance.naver.com/item/main.nhn?code=005930\"\n",
    "html = urllib.request.urlopen(url)\n",
    "html_contents =str(html.read().decode(\"ms949\"))"
   ]
  },
  {
   "cell_type": "code",
   "execution_count": 14,
   "id": "d9308fd5",
   "metadata": {},
   "outputs": [
    {
     "data": {
      "text/plain": [
       "[('<dl class=\"blind\">',\n",
       "  '\\n\\t        <dt>종목 시세 정보</dt>\\n\\t        <dd>2023년 02월 14일 16시 11분 기준 장마감</dd>\\n\\t        <dd>종목명 삼성전자</dd>\\n\\t        <dd>종목코드 005930 코스피</dd>\\n\\t        <dd>현재가 63,200 전일대비 상승 300 플러스 0.48 퍼센트</dd>\\n\\t        <dd>전일가 62,900</dd>\\n\\t        <dd>시가 63,600</dd>\\n\\t        <dd>고가 63,900</dd>\\n\\t        <dd>상한가 81,700</dd>\\n\\t        <dd>저가 63,200</dd>\\n\\t        <dd>하한가 44,100</dd>\\n\\t        <dd>거래량 9,098,662</dd>\\n\\t        <dd>거래대금 578,084백만</dd>\\n        ',\n",
       "  '</dl>'),\n",
       " ('<dl class=\"blind\">',\n",
       "  '\\n                        <dt><strong>삼성전자</strong></dt>\\n                        <dd>오늘의시세 63,200 포인트</dd>\\n                        <dd>300 포인트 상승</dd>\\n                        <dd>0.48% 플러스</dd>\\n                ',\n",
       "  '</dl>')]"
      ]
     },
     "execution_count": 14,
     "metadata": {},
     "output_type": "execute_result"
    }
   ],
   "source": [
    "# 첫 번째 HTML 패턴\n",
    "stock_results = re.findall(\"(\\<dl class=\\\"blind\\\"\\>)([\\s\\S]+?)(\\<\\/dl\\>)\", html_contents)\n",
    "stock_results"
   ]
  },
  {
   "cell_type": "code",
   "execution_count": 16,
   "id": "352870f7",
   "metadata": {},
   "outputs": [
    {
     "data": {
      "text/plain": [
       "('<dl class=\"blind\">',\n",
       " '\\n\\t        <dt>종목 시세 정보</dt>\\n\\t        <dd>2023년 02월 14일 16시 11분 기준 장마감</dd>\\n\\t        <dd>종목명 삼성전자</dd>\\n\\t        <dd>종목코드 005930 코스피</dd>\\n\\t        <dd>현재가 63,200 전일대비 상승 300 플러스 0.48 퍼센트</dd>\\n\\t        <dd>전일가 62,900</dd>\\n\\t        <dd>시가 63,600</dd>\\n\\t        <dd>고가 63,900</dd>\\n\\t        <dd>상한가 81,700</dd>\\n\\t        <dd>저가 63,200</dd>\\n\\t        <dd>하한가 44,100</dd>\\n\\t        <dd>거래량 9,098,662</dd>\\n\\t        <dd>거래대금 578,084백만</dd>\\n        ',\n",
       " '</dl>')"
      ]
     },
     "execution_count": 16,
     "metadata": {},
     "output_type": "execute_result"
    }
   ],
   "source": [
    "samsung_stock = stock_results[0] # 두 개의 튜플 값 중 첫 번째 패턴\n",
    "samsung_stock"
   ]
  },
  {
   "cell_type": "code",
   "execution_count": 18,
   "id": "879bd183",
   "metadata": {},
   "outputs": [
    {
     "data": {
      "text/plain": [
       "'\\n\\t        <dt>종목 시세 정보</dt>\\n\\t        <dd>2023년 02월 14일 16시 11분 기준 장마감</dd>\\n\\t        <dd>종목명 삼성전자</dd>\\n\\t        <dd>종목코드 005930 코스피</dd>\\n\\t        <dd>현재가 63,200 전일대비 상승 300 플러스 0.48 퍼센트</dd>\\n\\t        <dd>전일가 62,900</dd>\\n\\t        <dd>시가 63,600</dd>\\n\\t        <dd>고가 63,900</dd>\\n\\t        <dd>상한가 81,700</dd>\\n\\t        <dd>저가 63,200</dd>\\n\\t        <dd>하한가 44,100</dd>\\n\\t        <dd>거래량 9,098,662</dd>\\n\\t        <dd>거래대금 578,084백만</dd>\\n        '"
      ]
     },
     "execution_count": 18,
     "metadata": {},
     "output_type": "execute_result"
    }
   ],
   "source": [
    "samsung_index = samsung_stock[1] # 세 개의 튜플 값 중 두 번째 패턴\n",
    "samsung_index"
   ]
  },
  {
   "cell_type": "code",
   "execution_count": 21,
   "id": "28ba85fc",
   "metadata": {},
   "outputs": [
    {
     "name": "stdout",
     "output_type": "stream",
     "text": [
      "2023년 02월 14일 16시 11분 기준 장마감\n",
      "종목명 삼성전자\n",
      "종목코드 005930 코스피\n",
      "현재가 63,200 전일대비 상승 300 플러스 0.48 퍼센트\n",
      "전일가 62,900\n",
      "시가 63,600\n",
      "고가 63,900\n",
      "상한가 81,700\n",
      "저가 63,200\n",
      "하한가 44,100\n",
      "거래량 9,098,662\n",
      "거래대금 578,084백만\n"
     ]
    }
   ],
   "source": [
    "# 주식 정보만 추출함 => 세 개의 튜플 값 중 두 번째 값\n",
    "index_list= re.findall(\"(\\<dd\\>)([\\s\\S]+?)(\\<\\/dd\\>)\", samsung_index)\n",
    "for index in index_list:print(index[1]) "
   ]
  },
  {
   "cell_type": "code",
   "execution_count": 23,
   "id": "e22c9616",
   "metadata": {},
   "outputs": [
    {
     "name": "stdout",
     "output_type": "stream",
     "text": [
      "Collecting selenium\n",
      "  Downloading selenium-4.8.0-py3-none-any.whl (6.3 MB)\n",
      "     ---------------------------------------- 6.3/6.3 MB 40.4 MB/s eta 0:00:00\n",
      "Collecting trio-websocket~=0.9\n",
      "  Downloading trio_websocket-0.9.2-py3-none-any.whl (16 kB)\n",
      "Requirement already satisfied: urllib3[socks]~=1.26 in c:\\users\\lullu\\anaconda3\\lib\\site-packages (from selenium) (1.26.11)\n",
      "Requirement already satisfied: certifi>=2021.10.8 in c:\\users\\lullu\\anaconda3\\lib\\site-packages (from selenium) (2022.9.14)\n",
      "Collecting trio~=0.17\n",
      "  Downloading trio-0.22.0-py3-none-any.whl (384 kB)\n",
      "     ------------------------------------- 384.9/384.9 kB 23.4 MB/s eta 0:00:00\n",
      "Requirement already satisfied: attrs>=19.2.0 in c:\\users\\lullu\\anaconda3\\lib\\site-packages (from trio~=0.17->selenium) (21.4.0)\n",
      "Collecting outcome\n",
      "  Downloading outcome-1.2.0-py2.py3-none-any.whl (9.7 kB)\n",
      "Collecting exceptiongroup>=1.0.0rc9\n",
      "  Downloading exceptiongroup-1.1.0-py3-none-any.whl (14 kB)\n",
      "Collecting async-generator>=1.9\n",
      "  Downloading async_generator-1.10-py3-none-any.whl (18 kB)\n",
      "Requirement already satisfied: sortedcontainers in c:\\users\\lullu\\anaconda3\\lib\\site-packages (from trio~=0.17->selenium) (2.4.0)\n",
      "Requirement already satisfied: idna in c:\\users\\lullu\\anaconda3\\lib\\site-packages (from trio~=0.17->selenium) (3.3)\n",
      "Requirement already satisfied: sniffio in c:\\users\\lullu\\anaconda3\\lib\\site-packages (from trio~=0.17->selenium) (1.2.0)\n",
      "Requirement already satisfied: cffi>=1.14 in c:\\users\\lullu\\anaconda3\\lib\\site-packages (from trio~=0.17->selenium) (1.15.1)\n",
      "Collecting wsproto>=0.14\n",
      "  Downloading wsproto-1.2.0-py3-none-any.whl (24 kB)\n",
      "Requirement already satisfied: PySocks!=1.5.7,<2.0,>=1.5.6 in c:\\users\\lullu\\anaconda3\\lib\\site-packages (from urllib3[socks]~=1.26->selenium) (1.7.1)\n",
      "Requirement already satisfied: pycparser in c:\\users\\lullu\\anaconda3\\lib\\site-packages (from cffi>=1.14->trio~=0.17->selenium) (2.21)\n",
      "Collecting h11<1,>=0.9.0\n",
      "  Downloading h11-0.14.0-py3-none-any.whl (58 kB)\n",
      "     ---------------------------------------- 58.3/58.3 kB ? eta 0:00:00\n",
      "Installing collected packages: outcome, h11, exceptiongroup, async-generator, wsproto, trio, trio-websocket, selenium\n",
      "Successfully installed async-generator-1.10 exceptiongroup-1.1.0 h11-0.14.0 outcome-1.2.0 selenium-4.8.0 trio-0.22.0 trio-websocket-0.9.2 wsproto-1.2.0\n"
     ]
    }
   ],
   "source": [
    "!pip install selenium"
   ]
  },
  {
   "cell_type": "code",
   "execution_count": 24,
   "id": "3798c083",
   "metadata": {},
   "outputs": [],
   "source": [
    "from selenium import webdriver"
   ]
  },
  {
   "cell_type": "code",
   "execution_count": null,
   "id": "ae196618",
   "metadata": {},
   "outputs": [],
   "source": []
  }
 ],
 "metadata": {
  "kernelspec": {
   "display_name": "Python 3",
   "language": "python",
   "name": "python3"
  },
  "language_info": {
   "codemirror_mode": {
    "name": "ipython",
    "version": 3
   },
   "file_extension": ".py",
   "mimetype": "text/x-python",
   "name": "python",
   "nbconvert_exporter": "python",
   "pygments_lexer": "ipython3",
   "version": "3.9.13"
  },
  "vscode": {
   "interpreter": {
    "hash": "69f19b07be1e1e73d8f9f8253b994bc7f383cdc3e2c4ef7e803dc759e5b452e9"
   }
  }
 },
 "nbformat": 4,
 "nbformat_minor": 5
}
